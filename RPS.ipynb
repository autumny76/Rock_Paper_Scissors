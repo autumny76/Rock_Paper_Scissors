{
 "cells": [
  {
   "cell_type": "code",
   "execution_count": null,
   "id": "962804c6",
   "metadata": {},
   "outputs": [],
   "source": [
    "player_selection = input(\"rock, paper, scissors\").lower()\n",
    "print(\"You chose:\", player_selection)\n",
    "\n",
    "mylist = [\"rock\", \"paper\", \"scissors\"]\n",
    "computer_selection = random.choice(mylist)\n",
    "print(\"Computer chose:\", computer_selection)\n",
    "\n",
    "if player_selection == \"rock\" and computer_selection == \"scissors\":\n",
    "    print(\"You win! Rock beats Scissors!\")\n",
    "elif player_selection == \"rock\" and computer_selection == \"paper\":\n",
    "    print(\"You lose! Paper beats rock!\")\n",
    "elif player_selection == \"paper\" and computer_selection == \"rock\":\n",
    "    print(\"You win! Paper beats rock!\")\n",
    "elif player_selection == \"paper\" and computer_selection == \"scissors\":\n",
    "    print(\"You lose! Scissors beats paper!\")    \n",
    "elif player_selection == \"scissors\" and computer_selection == \"paper\":\n",
    "    print(\"You win! Scissors beats paper!\")\n",
    "elif player_selection == \"scissors\" and computer_selection == \"rock\":\n",
    "    print(\"You lose! Rock beats scissors!\")\n",
    "elif player_selection == computer_selection:\n",
    "    print(\"Tie! Try again!\")\n",
    "else:\n",
    "    print(\"Your choices are rock, paper, scissors. Please try again.\")"
   ]
  }
 ],
 "metadata": {
  "kernelspec": {
   "display_name": "Python 3",
   "language": "python",
   "name": "python3"
  },
  "language_info": {
   "codemirror_mode": {
    "name": "ipython",
    "version": 3
   },
   "file_extension": ".py",
   "mimetype": "text/x-python",
   "name": "python",
   "nbconvert_exporter": "python",
   "pygments_lexer": "ipython3",
   "version": "3.14.0"
  }
 },
 "nbformat": 4,
 "nbformat_minor": 5
}
